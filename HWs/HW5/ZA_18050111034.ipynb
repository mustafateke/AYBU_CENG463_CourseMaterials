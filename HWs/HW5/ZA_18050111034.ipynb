{
 "cells": [
  {
   "cell_type": "markdown",
   "id": "d76af9c3",
   "metadata": {},
   "source": [
    "# Zeynep AFAT 18050111034"
   ]
  },
  {
   "cell_type": "code",
   "execution_count": 33,
   "id": "2fee969d",
   "metadata": {},
   "outputs": [],
   "source": [
    "import numpy as np\n",
    "import pandas as pd\n",
    "\n",
    "import matplotlib.pyplot as plt\n",
    "import seaborn as sns\n",
    "sns.set(style=\"whitegrid\")\n",
    "\n",
    "import warnings\n",
    "warnings.filterwarnings('ignore')\n",
    "\n",
    "from sklearn import metrics as ms"
   ]
  },
  {
   "cell_type": "markdown",
   "id": "96148c35",
   "metadata": {},
   "source": [
    "# Loading the Iris Dataset"
   ]
  },
  {
   "cell_type": "code",
   "execution_count": 34,
   "id": "c391e116",
   "metadata": {},
   "outputs": [
    {
     "data": {
      "text/html": [
       "<div>\n",
       "<style scoped>\n",
       "    .dataframe tbody tr th:only-of-type {\n",
       "        vertical-align: middle;\n",
       "    }\n",
       "\n",
       "    .dataframe tbody tr th {\n",
       "        vertical-align: top;\n",
       "    }\n",
       "\n",
       "    .dataframe thead th {\n",
       "        text-align: right;\n",
       "    }\n",
       "</style>\n",
       "<table border=\"1\" class=\"dataframe\">\n",
       "  <thead>\n",
       "    <tr style=\"text-align: right;\">\n",
       "      <th></th>\n",
       "      <th>sepal length (cm)</th>\n",
       "      <th>sepal width (cm)</th>\n",
       "      <th>petal length (cm)</th>\n",
       "      <th>petal width (cm)</th>\n",
       "    </tr>\n",
       "  </thead>\n",
       "  <tbody>\n",
       "    <tr>\n",
       "      <th>0</th>\n",
       "      <td>5.1</td>\n",
       "      <td>3.5</td>\n",
       "      <td>1.4</td>\n",
       "      <td>0.2</td>\n",
       "    </tr>\n",
       "    <tr>\n",
       "      <th>1</th>\n",
       "      <td>4.9</td>\n",
       "      <td>3.0</td>\n",
       "      <td>1.4</td>\n",
       "      <td>0.2</td>\n",
       "    </tr>\n",
       "    <tr>\n",
       "      <th>2</th>\n",
       "      <td>4.7</td>\n",
       "      <td>3.2</td>\n",
       "      <td>1.3</td>\n",
       "      <td>0.2</td>\n",
       "    </tr>\n",
       "    <tr>\n",
       "      <th>3</th>\n",
       "      <td>4.6</td>\n",
       "      <td>3.1</td>\n",
       "      <td>1.5</td>\n",
       "      <td>0.2</td>\n",
       "    </tr>\n",
       "    <tr>\n",
       "      <th>4</th>\n",
       "      <td>5.0</td>\n",
       "      <td>3.6</td>\n",
       "      <td>1.4</td>\n",
       "      <td>0.2</td>\n",
       "    </tr>\n",
       "  </tbody>\n",
       "</table>\n",
       "</div>"
      ],
      "text/plain": [
       "   sepal length (cm)  sepal width (cm)  petal length (cm)  petal width (cm)\n",
       "0                5.1               3.5                1.4               0.2\n",
       "1                4.9               3.0                1.4               0.2\n",
       "2                4.7               3.2                1.3               0.2\n",
       "3                4.6               3.1                1.5               0.2\n",
       "4                5.0               3.6                1.4               0.2"
      ]
     },
     "execution_count": 34,
     "metadata": {},
     "output_type": "execute_result"
    }
   ],
   "source": [
    "# Load Iris dataset from Scikit-learn\n",
    "from sklearn.datasets import load_iris\n",
    "\n",
    "# Create input and output features\n",
    "feature_names = load_iris().feature_names\n",
    "X_data = pd.DataFrame(load_iris().data, columns=feature_names)\n",
    "y_data = load_iris().target\n",
    "\n",
    "# Show the first five rows of the dataset\n",
    "X_data.head()"
   ]
  },
  {
   "cell_type": "code",
   "execution_count": 35,
   "id": "9b4b1182",
   "metadata": {},
   "outputs": [],
   "source": [
    "from sklearn.linear_model import SGDClassifier\n",
    "from sklearn.model_selection import train_test_split, cross_val_score\n",
    "from sklearn.metrics import f1_score\n",
    "from sklearn.neighbors import KNeighborsClassifier"
   ]
  },
  {
   "cell_type": "markdown",
   "id": "ab9630ff",
   "metadata": {},
   "source": [
    "# Forward Feature Selection with for loops"
   ]
  },
  {
   "cell_type": "code",
   "execution_count": 36,
   "id": "cd30d1e8",
   "metadata": {},
   "outputs": [
    {
     "name": "stdout",
     "output_type": "stream",
     "text": [
      "Features used for classfiying: ['sepal length (cm)', 'sepal length (cm)']\n",
      "Cross validation scores: [0.875      0.625      0.75       0.57142857 0.28571429]\n",
      "Mean for cv scores: 0.6214285714285713\n",
      "Accuracy:  0.6052631578947368\n",
      "Features used for classfiying: ['sepal length (cm)', 'sepal width (cm)']\n",
      "Cross validation scores: [0.875      0.625      0.625      0.57142857 0.71428571]\n",
      "Mean for cv scores: 0.6821428571428572\n",
      "Accuracy:  0.7631578947368421\n",
      "Features used for classfiying: ['sepal length (cm)', 'petal length (cm)']\n",
      "Cross validation scores: [0.875 0.75  0.875 1.    1.   ]\n",
      "Mean for cv scores: 0.9\n",
      "Accuracy:  0.8421052631578947\n",
      "Features used for classfiying: ['sepal length (cm)', 'petal width (cm)']\n",
      "Cross validation scores: [1.         0.875      0.875      0.85714286 0.85714286]\n",
      "Mean for cv scores: 0.8928571428571429\n",
      "Accuracy:  0.868421052631579\n",
      "Features used for classfiying: ['sepal width (cm)', 'sepal length (cm)']\n",
      "Cross validation scores: [0.875      0.625      0.625      0.57142857 0.71428571]\n",
      "Mean for cv scores: 0.6821428571428572\n",
      "Accuracy:  0.7631578947368421\n",
      "Features used for classfiying: ['sepal width (cm)', 'sepal width (cm)']\n",
      "Cross validation scores: [0.25       0.625      0.375      0.71428571 0.57142857]\n",
      "Mean for cv scores: 0.5071428571428571\n",
      "Accuracy:  0.4473684210526316\n",
      "Features used for classfiying: ['sepal width (cm)', 'petal length (cm)']\n",
      "Cross validation scores: [0.875      0.75       0.75       0.85714286 0.71428571]\n",
      "Mean for cv scores: 0.7892857142857144\n",
      "Accuracy:  0.8157894736842105\n",
      "Features used for classfiying: ['sepal width (cm)', 'petal width (cm)']\n",
      "Cross validation scores: [1.         0.875      0.625      0.57142857 0.85714286]\n",
      "Mean for cv scores: 0.7857142857142857\n",
      "Accuracy:  0.8421052631578947\n",
      "Features used for classfiying: ['petal length (cm)', 'sepal length (cm)']\n",
      "Cross validation scores: [0.875 0.75  0.875 1.    1.   ]\n",
      "Mean for cv scores: 0.9\n",
      "Accuracy:  0.8421052631578947\n",
      "Features used for classfiying: ['petal length (cm)', 'sepal width (cm)']\n",
      "Cross validation scores: [0.875      0.75       0.75       0.85714286 0.71428571]\n",
      "Mean for cv scores: 0.7892857142857144\n",
      "Accuracy:  0.8157894736842105\n",
      "Features used for classfiying: ['petal length (cm)', 'petal length (cm)']\n",
      "Cross validation scores: [0.75       0.875      0.75       0.71428571 0.57142857]\n",
      "Mean for cv scores: 0.7321428571428571\n",
      "Accuracy:  0.7631578947368421\n",
      "Features used for classfiying: ['petal length (cm)', 'petal width (cm)']\n",
      "Cross validation scores: [0.875      0.875      0.875      1.         0.85714286]\n",
      "Mean for cv scores: 0.8964285714285714\n",
      "Accuracy:  0.9473684210526315\n",
      "Features used for classfiying: ['petal width (cm)', 'sepal length (cm)']\n",
      "Cross validation scores: [1.         0.875      0.875      0.85714286 0.85714286]\n",
      "Mean for cv scores: 0.8928571428571429\n",
      "Accuracy:  0.868421052631579\n",
      "Features used for classfiying: ['petal width (cm)', 'sepal width (cm)']\n",
      "Cross validation scores: [1.         0.875      0.625      0.57142857 0.85714286]\n",
      "Mean for cv scores: 0.7857142857142857\n",
      "Accuracy:  0.8421052631578947\n",
      "Features used for classfiying: ['petal width (cm)', 'petal length (cm)']\n",
      "Cross validation scores: [0.875      0.875      0.875      1.         0.85714286]\n",
      "Mean for cv scores: 0.8964285714285714\n",
      "Accuracy:  0.9473684210526315\n",
      "Features used for classfiying: ['petal width (cm)', 'petal width (cm)']\n",
      "Cross validation scores: [0.875      0.875      0.75       0.85714286 0.85714286]\n",
      "Mean for cv scores: 0.8428571428571429\n",
      "Accuracy:  0.8947368421052632\n",
      "Maximum accuracy: 0.9473684210526315\n",
      "CPU times: total: 391 ms\n",
      "Wall time: 381 ms\n"
     ]
    }
   ],
   "source": [
    "%%time\n",
    "# Input : Dataframe df with m features, number of required features n\n",
    "# Output : Set of n features most useful for model performance\n",
    "x_train, x_cv, y_train, y_cv=train_test_split(X_data, y_data, test_size=0.2, random_state=42)\n",
    "model = KNeighborsClassifier(n_neighbors = 1)\n",
    "  \n",
    "feature_set = []\n",
    "acc_set=[]\n",
    "for feat in x_train.columns:\n",
    "    for feature in x_train.columns:\n",
    "        f_set=feature_set.copy()\n",
    "        f_set.insert(0,feat)\n",
    "        f_set.insert(1,feature)\n",
    "        print(\"Features used for classfiying:\",f_set)\n",
    "        x_train, x_cv, y_train, y_cv=train_test_split(X_data, y_data, test_size=0.25, random_state=142)\n",
    "        model.fit(x_train[f_set], y_train)\n",
    "        scores = cross_val_score(model, x_cv[f_set], y_cv, cv=5, scoring=\"accuracy\")\n",
    "        print(\"Cross validation scores:\",scores)\n",
    "        print(\"Mean for cv scores:\" , np.mean(scores))\n",
    "        \n",
    "        print(\"Accuracy: \",ms.accuracy_score(y_cv,model.predict(x_cv[f_set])))\n",
    "        acc_set.append(ms.accuracy_score(y_cv,model.predict(x_cv[f_set]))) \n",
    "           \n",
    "print(\"Maximum accuracy:\",max(acc_set))\n",
    "    "
   ]
  },
  {
   "cell_type": "markdown",
   "id": "6c4e54c4",
   "metadata": {},
   "source": [
    "# Plotting the Accuracies for binary selection of features"
   ]
  },
  {
   "cell_type": "code",
   "execution_count": 37,
   "id": "600dd50c",
   "metadata": {},
   "outputs": [
    {
     "name": "stdout",
     "output_type": "stream",
     "text": [
      "[[0.60526316 0.76315789 0.84210526 0.86842105]\n",
      " [0.76315789 0.44736842 0.81578947 0.84210526]\n",
      " [0.84210526 0.81578947 0.76315789 0.94736842]\n",
      " [0.86842105 0.84210526 0.94736842 0.89473684]]\n"
     ]
    },
    {
     "data": {
      "text/plain": [
       "<AxesSubplot:>"
      ]
     },
     "execution_count": 37,
     "metadata": {},
     "output_type": "execute_result"
    },
    {
     "data": {
      "image/png": "[encoded data removed]",
      "text/plain": [
       "<Figure size 432x288 with 2 Axes>"
      ]
     },
     "metadata": {},
     "output_type": "display_data"
    }
   ],
   "source": [
    "import seaborn as sns\n",
    "mat = np.asarray(acc_set)\n",
    "mat=mat.reshape(4,4)\n",
    "print(mat) \n",
    "x_axis_labels = [\"sepal length\",\"sepal width\",\"petal length\",\"petal width\"] # labels for x-axis\n",
    "y_axis_labels = [\"sepal length\",\"sepal width\",\"petal length\",\"petal width\"] # labels for y-axis\n",
    "\n",
    "# create seaborn heatmap with required labels\n",
    "sns.heatmap(mat, annot=True, cbar = True, xticklabels=x_axis_labels, yticklabels=y_axis_labels)"
   ]
  },
  {
   "cell_type": "markdown",
   "id": "09cfc5ac",
   "metadata": {},
   "source": [
    "# Brute-Force Approach"
   ]
  },
  {
   "cell_type": "code",
   "execution_count": 38,
   "id": "ac2eaf72",
   "metadata": {},
   "outputs": [
    {
     "name": "stdout",
     "output_type": "stream",
     "text": [
      "Features used for classfiying: ['sepal length (cm)']\n",
      "Cross validation scores: [0.83333333 0.5        0.66666667 0.66666667 0.66666667]\n",
      "Mean for cv scores: 0.6666666666666666\n",
      "Accuracy:  0.6\n",
      "Features used for classfiying: ['sepal length (cm)', 'sepal width (cm)']\n",
      "Cross validation scores: [0.83333333 0.66666667 0.66666667 0.66666667 0.5       ]\n",
      "Mean for cv scores: 0.6666666666666666\n",
      "Accuracy:  0.7666666666666667\n",
      "Features used for classfiying: ['sepal length (cm)', 'sepal width (cm)', 'petal length (cm)']\n",
      "Cross validation scores: [0.83333333 0.83333333 0.83333333 0.66666667 1.        ]\n",
      "Mean for cv scores: 0.8333333333333333\n",
      "Accuracy:  0.9\n",
      "Features used for classfiying: ['sepal length (cm)', 'sepal width (cm)', 'petal length (cm)', 'petal width (cm)']\n",
      "Cross validation scores: [1.         1.         0.83333333 0.66666667 1.        ]\n",
      "Mean for cv scores: 0.9\n",
      "Accuracy:  0.9\n",
      "CPU times: total: 93.8 ms\n",
      "Wall time: 97 ms\n"
     ]
    }
   ],
   "source": [
    "%%time\n",
    "# Input : Dataframe df with m features, number of required features n\n",
    "# Output : Set of n features most useful for model performance\n",
    "x_train, x_cv, y_train, y_cv=train_test_split(X_data, y_data, test_size=0.2, random_state=142)\n",
    "model = KNeighborsClassifier(n_neighbors = 1)\n",
    "  \n",
    "f_set = []\n",
    "acc_set=[]\n",
    "\n",
    "for feature in x_train.columns:\n",
    "    f_set.append(feature)\n",
    "    print(\"Features used for classfiying:\",f_set)\n",
    "    model.fit(x_train[f_set], y_train)\n",
    "    scores = cross_val_score(model, x_cv[f_set], y_cv, cv=5)\n",
    "    print(\"Cross validation scores:\",scores)\n",
    "    print(\"Mean for cv scores:\" , np.mean(scores))\n",
    "        \n",
    "    print(\"Accuracy: \",ms.accuracy_score(y_cv,model.predict(x_cv[f_set])))\n",
    "    acc_set.append(ms.accuracy_score(y_cv,model.predict(x_cv[f_set]))) "
   ]
  },
  {
   "cell_type": "markdown",
   "id": "1ba0edd1",
   "metadata": {},
   "source": [
    "## With brute-force approach we are selecting the features with increasing number but forward feature selection we are selecting best features that we can use in our model to increase the accuracy score. We see that brute-force approach is faster than FFS but it is not giving the optimal value and it can be misleading.\n",
    "## To conclude, using FFS is much more accurate than the brute-force approach"
   ]
  },
  {
   "cell_type": "markdown",
   "id": "2ce02304",
   "metadata": {},
   "source": [
    "# Forward Feature Selection with Sklearn"
   ]
  },
  {
   "cell_type": "code",
   "execution_count": 39,
   "id": "54b0d980",
   "metadata": {},
   "outputs": [],
   "source": [
    "from mlxtend.feature_selection import SequentialFeatureSelector as SFS"
   ]
  },
  {
   "cell_type": "code",
   "execution_count": 40,
   "id": "3ea7266e",
   "metadata": {},
   "outputs": [],
   "source": [
    "# Import logistic regression from Scikit-learn\n",
    "from sklearn.linear_model import LogisticRegression"
   ]
  },
  {
   "cell_type": "code",
   "execution_count": 41,
   "id": "15fcc269",
   "metadata": {},
   "outputs": [
    {
     "name": "stderr",
     "output_type": "stream",
     "text": [
      "[Parallel(n_jobs=-1)]: Using backend LokyBackend with 12 concurrent workers.\n",
      "[Parallel(n_jobs=-1)]: Done   2 out of   4 | elapsed:    2.5s remaining:    2.5s\n",
      "[Parallel(n_jobs=-1)]: Done   4 out of   4 | elapsed:    2.5s finished\n",
      "\n",
      "[2022-12-04 14:46:24] Features: 3/1 -- score: 0.9666666666666668[Parallel(n_jobs=-1)]: Using backend LokyBackend with 12 concurrent workers.\n",
      "[Parallel(n_jobs=-1)]: Done   3 out of   3 | elapsed:    0.4s finished\n",
      "\n",
      "[2022-12-04 14:46:25] Features: 2/1 -- score: 0.96[Parallel(n_jobs=-1)]: Using backend LokyBackend with 12 concurrent workers.\n"
     ]
    },
    {
     "name": "stdout",
     "output_type": "stream",
     "text": [
      "Best accuracy score: 0.97\n",
      "Best subset (indices): (0, 1, 2, 3)\n",
      "Best subset (corresponding names): ('sepal length (cm)', 'sepal width (cm)', 'petal length (cm)', 'petal width (cm)')\n"
     ]
    },
    {
     "name": "stderr",
     "output_type": "stream",
     "text": [
      "[Parallel(n_jobs=-1)]: Done   2 out of   2 | elapsed:    0.3s finished\n",
      "\n",
      "[2022-12-04 14:46:25] Features: 1/1 -- score: 0.96"
     ]
    }
   ],
   "source": [
    "# Create a logistic regression classifier\n",
    "lr = LogisticRegression()\n",
    "\n",
    "# Create an SFS object\n",
    "sfs = SFS(estimator=lr,       # Use logistic regression as our classifier\n",
    "          n_jobs=-1,\n",
    "          k_features=(1, 4),  # Consider any feature combination between 1 and 4\n",
    "          forward=False,       # Set forward to True when we want to perform SFS\n",
    "          verbose=2,\n",
    "          scoring='accuracy', # The metric to use to evaluate the classifier is accuracy \n",
    "          cv=5)               # The number of cross-validations to perform is 5\n",
    "\n",
    "# Train SFS with our dataset\n",
    "sfs = sfs.fit(X_data, y_data)\n",
    "\n",
    "# Print the results\n",
    "print('Best accuracy score: %.2f' % sfs.k_score_)   # k_score_ shows the best score \n",
    "print('Best subset (indices):', sfs.k_feature_idx_) # k_feature_idx_ shows the index of features \n",
    "                                                    # that yield the best score\n",
    "print('Best subset (corresponding names):', sfs.k_feature_names_) # k_feature_names_ shows the feature names \n",
    "                                                                  # that yield the best score"
   ]
  },
  {
   "cell_type": "code",
   "execution_count": 42,
   "id": "b85de81e",
   "metadata": {},
   "outputs": [
    {
     "name": "stdout",
     "output_type": "stream",
     "text": [
      "Number of features before transformation: 4\n",
      "Number of features after transformation: 4\n"
     ]
    }
   ],
   "source": [
    "# Transform the dataset\n",
    "X_data_new = sfs.transform(X_data)\n",
    "\n",
    "# Print the results\n",
    "print('Number of features before transformation: {}'.format(X_data.shape[1]))\n",
    "print('Number of features after transformation: {}'.format(X_data_new.shape[1]))"
   ]
  },
  {
   "cell_type": "code",
   "execution_count": 43,
   "id": "ef052269",
   "metadata": {},
   "outputs": [
    {
     "data": {
      "text/html": [
       "<div>\n",
       "<style scoped>\n",
       "    .dataframe tbody tr th:only-of-type {\n",
       "        vertical-align: middle;\n",
       "    }\n",
       "\n",
       "    .dataframe tbody tr th {\n",
       "        vertical-align: top;\n",
       "    }\n",
       "\n",
       "    .dataframe thead th {\n",
       "        text-align: right;\n",
       "    }\n",
       "</style>\n",
       "<table border=\"1\" class=\"dataframe\">\n",
       "  <thead>\n",
       "    <tr style=\"text-align: right;\">\n",
       "      <th></th>\n",
       "      <th>feature_idx</th>\n",
       "      <th>cv_scores</th>\n",
       "      <th>avg_score</th>\n",
       "      <th>feature_names</th>\n",
       "    </tr>\n",
       "  </thead>\n",
       "  <tbody>\n",
       "    <tr>\n",
       "      <th>4</th>\n",
       "      <td>(0, 1, 2, 3)</td>\n",
       "      <td>[0.9666666666666667, 1.0, 0.9333333333333333, ...</td>\n",
       "      <td>0.973333</td>\n",
       "      <td>(sepal length (cm), sepal width (cm), petal le...</td>\n",
       "    </tr>\n",
       "    <tr>\n",
       "      <th>3</th>\n",
       "      <td>(0, 2, 3)</td>\n",
       "      <td>[0.9666666666666667, 0.9666666666666667, 0.933...</td>\n",
       "      <td>0.966667</td>\n",
       "      <td>(sepal length (cm), petal length (cm), petal w...</td>\n",
       "    </tr>\n",
       "    <tr>\n",
       "      <th>2</th>\n",
       "      <td>(2, 3)</td>\n",
       "      <td>[0.9666666666666667, 0.9666666666666667, 0.933...</td>\n",
       "      <td>0.96</td>\n",
       "      <td>(petal length (cm), petal width (cm))</td>\n",
       "    </tr>\n",
       "    <tr>\n",
       "      <th>1</th>\n",
       "      <td>(3,)</td>\n",
       "      <td>[1.0, 0.9666666666666667, 0.9, 0.9333333333333...</td>\n",
       "      <td>0.96</td>\n",
       "      <td>(petal width (cm),)</td>\n",
       "    </tr>\n",
       "  </tbody>\n",
       "</table>\n",
       "</div>"
      ],
      "text/plain": [
       "    feature_idx                                          cv_scores avg_score  \\\n",
       "4  (0, 1, 2, 3)  [0.9666666666666667, 1.0, 0.9333333333333333, ...  0.973333   \n",
       "3     (0, 2, 3)  [0.9666666666666667, 0.9666666666666667, 0.933...  0.966667   \n",
       "2        (2, 3)  [0.9666666666666667, 0.9666666666666667, 0.933...      0.96   \n",
       "1          (3,)  [1.0, 0.9666666666666667, 0.9, 0.9333333333333...      0.96   \n",
       "\n",
       "                                       feature_names  \n",
       "4  (sepal length (cm), sepal width (cm), petal le...  \n",
       "3  (sepal length (cm), petal length (cm), petal w...  \n",
       "2              (petal length (cm), petal width (cm))  \n",
       "1                                (petal width (cm),)  "
      ]
     },
     "execution_count": 43,
     "metadata": {},
     "output_type": "execute_result"
    }
   ],
   "source": [
    "# Show the performance of each subset of features considered by SFS\n",
    "sfs_results = pd.DataFrame.from_dict(sfs.subsets_).T \n",
    "sfs_results"
   ]
  },
  {
   "cell_type": "code",
   "execution_count": 44,
   "id": "fa3364d2",
   "metadata": {},
   "outputs": [
    {
     "data": {
      "image/png": "[encoded data removed]",
      "text/plain": [
       "<Figure size 432x144 with 1 Axes>"
      ]
     },
     "metadata": {},
     "output_type": "display_data"
    }
   ],
   "source": [
    "# Create a horizontal bar chart for visualizing \n",
    "# the performance of each subset of features\n",
    "fig, ax = plt.subplots(figsize=(6,2))\n",
    "y_pos = np.arange(len(sfs_results))\n",
    "ax.barh(y_pos, \n",
    "        sfs_results['avg_score'], \n",
    "        color='tomato')\n",
    "ax.set_yticks(y_pos)\n",
    "ax.set_yticklabels(sfs_results['feature_names'])\n",
    "ax.set_xlabel('Accuracy')\n",
    "plt.show()"
   ]
  },
  {
   "cell_type": "code",
   "execution_count": null,
   "id": "2286c7a2",
   "metadata": {},
   "outputs": [],
   "source": []
  }
 ],
 "metadata": {
  "kernelspec": {
   "display_name": "Python 3.8.13 ('CENG463')",
   "language": "python",
   "name": "python3"
  },
  "language_info": {
   "codemirror_mode": {
    "name": "ipython",
    "version": 3
   },
   "file_extension": ".py",
   "mimetype": "text/x-python",
   "name": "python",
   "nbconvert_exporter": "python",
   "pygments_lexer": "ipython3",
   "version": "3.8.13"
  },
  "vscode": {
   "interpreter": {
    "hash": "3c9136727fbf04a76ce3e7348b66b96dc1ae64c6a8f407abaac7c74216add713"
   }
  }
 },
 "nbformat": 4,
 "nbformat_minor": 5
}
