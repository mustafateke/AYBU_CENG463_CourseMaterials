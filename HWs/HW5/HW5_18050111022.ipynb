{
  "cells": [
    {
      "cell_type": "code",
      "execution_count": 210,
      "metadata": {
        "id": "e10HmlmKVAB1"
      },
      "outputs": [],
      "source": [
        "from sklearn.model_selection import train_test_split\n",
        "from sklearn.datasets import load_iris\n",
        "import numpy as np\n",
        "import matplotlib.pyplot as plt\n",
        "from sklearn import datasets\n",
        "import pandas as pd\n",
        "from sklearn.neighbors import KNeighborsClassifier"
      ]
    },
    {
      "cell_type": "code",
      "execution_count": 211,
      "metadata": {
        "id": "Hmnq7kRLVXeE"
      },
      "outputs": [],
      "source": [
        "iris = load_iris()\n",
        "\n",
        "df = pd.DataFrame(iris.data, columns = iris.feature_names)\n",
        "\n",
        "x_train, x_cv, y_train, y_cv=train_test_split(df, iris.target, test_size=0.2, stratify=iris.target)"
      ]
    },
    {
      "cell_type": "markdown",
      "metadata": {
        "id": "pKdk-eXRiBo8"
      },
      "source": [
        "**Evaluating classifications accuracies here, depend on accuracy that in cross validation**"
      ]
    },
    {
      "cell_type": "code",
      "execution_count": 212,
      "metadata": {
        "id": "8hImAJUTVXi3"
      },
      "outputs": [],
      "source": [
        "from sklearn.metrics import accuracy_score, confusion_matrix\n",
        "from sklearn.model_selection import cross_val_score\n",
        "\n",
        "def evaluate_metric(model, x_cv, y_cv):\n",
        "  accuracy = cross_val_score(model, x_cv, y_cv, scoring='accuracy', cv = 4)\n",
        "  return accuracy.mean() * 100\n",
        "    "
      ]
    },
    {
      "cell_type": "markdown",
      "metadata": {
        "id": "WdOptn88jsWD"
      },
      "source": [
        "**TASK1 & TASK2 that IMPLAMENT FFS and SELECT FEATURES depend on above evaluation**"
      ]
    },
    {
      "cell_type": "code",
      "execution_count": 213,
      "metadata": {
        "id": "XlcLacHWVXqC"
      },
      "outputs": [],
      "source": [
        "def forward_feature_selection(x_train, x_cv, y_train, y_cv, n):\n",
        "    feature_set = []\n",
        "    for num_features in range(n):\n",
        "        metric_list = [] # Choose appropriate metric\n",
        "        model = KNeighborsClassifier(n_neighbors=1) # We are choosing model that KNN = 1, this technique is model agnostic\n",
        "        for feature in x_train.columns:\n",
        "            if feature not in feature_set:\n",
        "                f_set = feature_set.copy()\n",
        "                f_set.append(feature)\n",
        "                model.fit(x_train[f_set], y_train)\n",
        "                #TASK2- Select and order features according to classification accuracies (use cross validation for accuracy computation)\n",
        "                metric_list.append((evaluate_metric(model, x_cv[f_set], y_cv), feature))\n",
        "        \n",
        "        metric_list.sort(key=lambda x : x[0], reverse = True)\n",
        "        feature_set.append(metric_list[0][1])\n",
        "    return feature_set\n"
      ]
    },
    {
      "cell_type": "code",
      "execution_count": 216,
      "metadata": {
        "colab": {
          "base_uri": "https://localhost:8080/"
        },
        "id": "tzmg-me0VXxg",
        "outputId": "d601dd87-b608-446f-e386-c7228cacc010"
      },
      "outputs": [
        {
          "data": {
            "text/plain": [
              "['petal width (cm)',\n",
              " 'petal length (cm)',\n",
              " 'sepal width (cm)',\n",
              " 'sepal length (cm)']"
            ]
          },
          "execution_count": 216,
          "metadata": {},
          "output_type": "execute_result"
        }
      ],
      "source": [
        "ffs = forward_feature_selection(x_train, x_cv, y_train, y_cv, 4)\n",
        "ffs"
      ]
    },
    {
      "cell_type": "markdown",
      "metadata": {
        "id": "ywJluaK6xaBu"
      },
      "source": [
        "**According to above results (sorted array) we can say beeing petal has the highest priority on model**"
      ]
    },
    {
      "cell_type": "code",
      "execution_count": 215,
      "metadata": {
        "colab": {
          "base_uri": "https://localhost:8080/",
          "height": 53
        },
        "id": "0IT3hqrfnu4w",
        "outputId": "dea8439d-6db7-4954-ba79-8fefa4636bd1"
      },
      "outputs": [
        {
          "data": {
            "application/vnd.google.colaboratory.intrinsic+json": {
              "type": "string"
            },
            "text/plain": [
              "\"\\nTask3 is here, I tried my best but i cant fix the error\\nmodel = KNeighborsClassifier(n_neighbors=1)\\n\\ncombine_of_two_feature = pd.concat( (int)(pd.DataFrame(iris.data['petal width (cm)'])), (int)(pd.DataFrame(iris.data['sepal width (cm)']), axis=1))\\nmyMatrix = cross_val_score(model, combine_of_two_feature, iris.target, scoring='accuracy')\\nmyMatrix\\n\\n\""
            ]
          },
          "execution_count": 215,
          "metadata": {},
          "output_type": "execute_result"
        }
      ],
      "source": [
        "\"\"\"\n",
        "Task3 is here, I tried my best but i cant fix the error\n",
        "model = KNeighborsClassifier(n_neighbors=1)\n",
        "\n",
        "combine_of_two_feature = pd.concat( (int)(pd.DataFrame(iris.data['petal width (cm)'])), (int)(pd.DataFrame(iris.data['sepal width (cm)']), axis=1))\n",
        "myMatrix = cross_val_score(model, combine_of_two_feature, iris.target, scoring='accuracy')\n",
        "myMatrix\n",
        "\n",
        "\"\"\""
      ]
    },
    {
      "cell_type": "markdown",
      "metadata": {
        "id": "UlDjCXFk9wvE"
      },
      "source": [
        "**TASK4 Compare brute-force vs forward feature selection in time and accuracy**"
      ]
    },
    {
      "cell_type": "code",
      "execution_count": 217,
      "metadata": {
        "colab": {
          "base_uri": "https://localhost:8080/"
        },
        "id": "H6vbdTg1xWnW",
        "outputId": "922e0fb0-b4d7-4e47-deac-3727d947f0dc"
      },
      "outputs": [
        {
          "name": "stdout",
          "output_type": "stream",
          "text": [
            "[False False False  True]\n",
            "[False False  True  True]\n",
            "[ True False  True  True]\n"
          ]
        }
      ],
      "source": [
        "from sklearn.feature_selection import SequentialFeatureSelector\n",
        "from sklearn.neighbors import KNeighborsClassifier\n",
        "from sklearn.datasets import load_iris\n",
        "X, y = load_iris(return_X_y=True)\n",
        "knn = KNeighborsClassifier(n_neighbors=1)\n",
        "\n",
        "for i in range(1,4):\n",
        "  sfs = SequentialFeatureSelector(knn, n_features_to_select=i)\n",
        "  sfs.fit(X, y)\n",
        "  print(sfs.get_support())"
      ]
    },
    {
      "cell_type": "markdown",
      "metadata": {
        "id": "JqSUrF0cFLMG"
      },
      "source": [
        "**Conclusion, for the above feature selector we found 4th index of our data (feature) most prior, then 3rd index, then first index and finally 2nd index, So we can sort as  \"petal width\" > \"petal length\" > \"sepal length\" > \"sepal width\". Also time measurement differences is very low, so I ignored.**"
      ]
    }
  ],
  "metadata": {
    "colab": {
      "provenance": []
    },
    "kernelspec": {
      "display_name": "Python 3.7.13 ('Basle3_7')",
      "language": "python",
      "name": "python3"
    },
    "language_info": {
      "name": "python",
      "version": "3.7.13"
    },
    "vscode": {
      "interpreter": {
        "hash": "481b1f2a576f20683fd8e14eaa8901e9577f9ecd3a6ca6e08449a42cb223b41a"
      }
    }
  },
  "nbformat": 4,
  "nbformat_minor": 0
}
