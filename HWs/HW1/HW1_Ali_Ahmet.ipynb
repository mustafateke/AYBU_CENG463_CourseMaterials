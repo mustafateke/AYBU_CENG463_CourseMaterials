{
  "nbformat": 4,
  "nbformat_minor": 0,
  "metadata": {
    "colab": {
      "provenance": [],
      "collapsed_sections": []
    },
    "kernelspec": {
      "name": "python3",
      "display_name": "Python 3"
    },
    "language_info": {
      "name": "python"
    }
  },
  "cells": [
    {
      "cell_type": "markdown",
      "source": [
        "Ali Ahmet TAŞKESEN - 18050111022"
      ],
      "metadata": {
        "id": "cvjapG3fEaH1"
      }
    },
    {
      "cell_type": "markdown",
      "source": [
        "**Import requirements**"
      ],
      "metadata": {
        "id": "0JiYyVaq2-JF"
      }
    },
    {
      "cell_type": "code",
      "execution_count": 103,
      "metadata": {
        "id": "o22Ej2STPNv-"
      },
      "outputs": [],
      "source": [
        "from sklearn.model_selection import train_test_split\n",
        "from sklearn.datasets import load_iris\n",
        "import numpy as np\n",
        "import matplotlib.pyplot as plt\n",
        "from sklearn import datasets\n",
        "import random\n",
        "import time"
      ]
    },
    {
      "cell_type": "markdown",
      "source": [
        "**Load dataset**"
      ],
      "metadata": {
        "id": "usS-U7wM3O_x"
      }
    },
    {
      "cell_type": "code",
      "source": [
        "iris = load_iris()"
      ],
      "metadata": {
        "id": "zsPZcww37Owh"
      },
      "execution_count": 104,
      "outputs": []
    },
    {
      "cell_type": "markdown",
      "source": [
        "**Assign data part and target part**"
      ],
      "metadata": {
        "id": "xuh1Auc27QHr"
      }
    },
    {
      "cell_type": "code",
      "source": [
        "X = iris.data\n",
        "y = iris.target"
      ],
      "metadata": {
        "id": "WrAeXKFP7Qq-"
      },
      "execution_count": 105,
      "outputs": []
    },
    {
      "cell_type": "markdown",
      "source": [
        "**Split the data**"
      ],
      "metadata": {
        "id": "Ju10krW67dHs"
      }
    },
    {
      "cell_type": "code",
      "source": [
        "X_train, X_test, y_train, y_test = train_test_split(X, y, test_size=0.2, random_state=4)"
      ],
      "metadata": {
        "id": "UUenpFznPZAi"
      },
      "execution_count": 106,
      "outputs": []
    },
    {
      "cell_type": "markdown",
      "source": [
        "**Define get distance function for finding distance between points**"
      ],
      "metadata": {
        "id": "zMcVVXZ23xCh"
      }
    },
    {
      "cell_type": "code",
      "source": [
        "def get_distance(point, data):\n",
        "\treturn np.sqrt(np.sum((point - data)**2, axis=1))"
      ],
      "metadata": {
        "id": "vZVxsuX6377f"
      },
      "execution_count": 107,
      "outputs": []
    },
    {
      "cell_type": "markdown",
      "source": [
        "**Define most_common function for taking member that has most count from  an array**"
      ],
      "metadata": {
        "id": "kgFpc55o3_qo"
      }
    },
    {
      "cell_type": "code",
      "source": [
        "def most_common(lst):\n",
        "  return max(set(lst), key=lst.count)"
      ],
      "metadata": {
        "id": "NPFG3lLB4RJH"
      },
      "execution_count": 108,
      "outputs": []
    },
    {
      "cell_type": "markdown",
      "source": [
        "**Create new_Xtest and new_Ytest for evaluate the model according to test_ratio and n_neighbors**"
      ],
      "metadata": {
        "id": "HKYARutI4v08"
      }
    },
    {
      "cell_type": "code",
      "source": [
        "new_Xtest = np.zeros(0)\n",
        "new_Ytest = np.zeros(0)"
      ],
      "metadata": {
        "id": "9w-V9P6g5MKs"
      },
      "execution_count": 109,
      "outputs": []
    },
    {
      "cell_type": "markdown",
      "source": [
        "**Define fitAndPredict as mentioned in homework, create new test domains according to test_ratio, take most commen n_neighbors from sorted distances array**"
      ],
      "metadata": {
        "id": "6X3IQywy5NIA"
      }
    },
    {
      "cell_type": "code",
      "source": [
        "def fitAndPredict(X_train, y_train, X_test, n_neighbors, test_ratio):\n",
        "\tglobal  new_Xtest, new_Ytest\n",
        "\t\n",
        "\tnew_len = int(len(X_test) * test_ratio)\n",
        "\tnew_Xtest = np.zeros(shape=[new_len, 4])\n",
        "\tnew_Ytest = np.zeros(new_len)\n",
        "\n",
        "\trand_indices = random.sample(range(len(X_test)), new_len)\n",
        "\n",
        "\tk=0\n",
        "\tfor i in rand_indices:\n",
        "\t\tnew_Xtest[k] = X_test[i]\n",
        "\t\tnew_Ytest[k] = y_test[i]\n",
        "\t\tk+=1\n",
        "\n",
        "\tneighbors = []\n",
        "\tfor x in new_Xtest:\n",
        "\t\t\tdistances = get_distance(x, X_train)\n",
        "\t\t\ty_sorted = [y for _, y in sorted(zip(distances, y_train))]\n",
        "\t\t\tneighbors.append(y_sorted[:n_neighbors])\n",
        "\t \n",
        "\treturn list(map(most_common, neighbors))\n"
      ],
      "metadata": {
        "id": "sZrdL5jRb088"
      },
      "execution_count": 110,
      "outputs": []
    },
    {
      "cell_type": "markdown",
      "source": [
        "**Evaluate the model according to n that number of neighbors. Also test_ratio = 1 for all cases.**\n",
        "\n",
        "**Then we can say after the 3 neighbors we reach almost perfect results**"
      ],
      "metadata": {
        "id": "uXa3RiZS6hsb"
      }
    },
    {
      "cell_type": "code",
      "source": [
        "accuracies = []\n",
        "computation_times = []\n",
        "\n",
        "n_domein = np.arange(1, 12, 2)\n",
        "for n in n_domein:\n",
        "\tstart = time.time()\n",
        "\ty_pred = fitAndPredict(X_train, y_train, X_test, n_neighbors=n, test_ratio=1)\n",
        "\tcomputation_times.append((time.time()-start) * 10**3)\n",
        "\taccuracy = sum(y_pred == new_Ytest) / len(new_Ytest)\n",
        "\taccuracies.append(accuracy)\n",
        "\n",
        "fig, ax = plt.subplots()\n",
        "ax.plot(n_domein, accuracies)\n",
        "\n",
        "x_ticks = [1, 3, 5, 7, 9, 11]\n",
        "x_labels = [1, 3, 5, 7, 9, 11]\n",
        "plt.xticks(ticks=x_ticks, labels=x_labels)\n",
        "\n",
        "ax.set(xlabel=\"n\",\n",
        "       ylabel=\"Accuracy\",\n",
        "       title=\"Performance of knn\")\n",
        "plt.show()"
      ],
      "metadata": {
        "colab": {
          "base_uri": "https://localhost:8080/",
          "height": 295
        },
        "id": "VbBZ1PBGrHDN",
        "outputId": "cebb4e65-79f0-415f-b819-1e42501b2325"
      },
      "execution_count": 111,
      "outputs": [
        {
          "output_type": "display_data",
          "data": {
            "text/plain": [
              "<Figure size 432x288 with 1 Axes>"
            ],
            "image/png": "[encoded data removed]"
          },
          "metadata": {
            "needs_background": "light"
          }
        }
      ]
    },
    {
      "cell_type": "markdown",
      "source": [
        "**Evaluate the correlation between to Computation Time and different number of neighbors**\n",
        "\n",
        "**We can say for the 11 neighbors has highest Computation Time**"
      ],
      "metadata": {
        "id": "hVEbVkhsCWUT"
      }
    },
    {
      "cell_type": "code",
      "source": [
        "fig, ax = plt.subplots()\n",
        "ax.plot(n_domein, computation_times)\n",
        "\n",
        "x_ticks = [1, 3, 5, 7, 9, 11]\n",
        "x_labels = x_ticks\n",
        "plt.xticks(ticks=x_ticks, labels=x_labels)\n",
        "\n",
        "ax.set(xlabel=\"n\",\n",
        "       ylabel=\"Computation Time (ms)\",\n",
        "       title=\"Computation times for different number of neighbors\")\n",
        "plt.show()"
      ],
      "metadata": {
        "colab": {
          "base_uri": "https://localhost:8080/",
          "height": 295
        },
        "id": "65Z4cAZsCWmq",
        "outputId": "420e1ba6-03e9-468e-8ff0-6140347d952a"
      },
      "execution_count": 112,
      "outputs": [
        {
          "output_type": "display_data",
          "data": {
            "text/plain": [
              "<Figure size 432x288 with 1 Axes>"
            ],
            "image/png": "[encoded data removed]"
          },
          "metadata": {
            "needs_background": "light"
          }
        }
      ]
    },
    {
      "cell_type": "markdown",
      "source": [
        "**Evaluate the model according to k that test_ratio. Also number of neighbors = 5 for all cases**\n",
        "\n",
        "**According to my research commonly used ratio is 80:20, which means 80% of the data is for training and 20% for testing. Other ratios such as 70:30, 60:40, and even 50:50 are also used in practice. There does not seem to be clear guidance on what ratio is best or optimal for a given dataset.**\n",
        "\n",
        "**For this homework as we see below table, 0.35 and 0.45 test ratios are lowest, up to 0.3 values are perfect, external of above values almost perfect**"
      ],
      "metadata": {
        "id": "Io7DPkrg8GtM"
      }
    },
    {
      "cell_type": "code",
      "source": [
        "accuracies = []\n",
        "\n",
        "k_domein = np.arange(0.1, 1.01, 0.05)\n",
        "for k in k_domein:\n",
        "\ty_pred = fitAndPredict(X_train, y_train, X_test, n_neighbors=5, test_ratio=k)\n",
        "\taccuracy = sum(y_pred == new_Ytest) / len(new_Ytest)\n",
        "\taccuracies.append(accuracy)\n",
        "\n",
        "fig, ax = plt.subplots()\n",
        "ax.plot(k_domein, accuracies)\n",
        "\n",
        "x_ticks = [0.1, 0.2, 0.3, 0.4, 0.5, 0.6, 0.7, 0.8, 0.9, 1. ]\n",
        "x_labels = [0.1, 0.2, 0.3, 0.4, 0.5, 0.6, 0.7, 0.8, 0.9, 1. ]\n",
        "plt.xticks(ticks=x_ticks, labels=x_labels)\n",
        "\n",
        "ax.set(xlabel=\"test_ratio\",\n",
        "       ylabel=\"Accuracy\",\n",
        "       title=\"Performance of knn for k = 5\")\n",
        "plt.show()"
      ],
      "metadata": {
        "colab": {
          "base_uri": "https://localhost:8080/",
          "height": 296
        },
        "id": "fgGVGN-uq_G6",
        "outputId": "da441485-9215-4152-a417-2a2cb7ed366d"
      },
      "execution_count": 113,
      "outputs": [
        {
          "output_type": "display_data",
          "data": {
            "text/plain": [
              "<Figure size 432x288 with 1 Axes>"
            ],
            "image/png": "[encoded data removed]"
          },
          "metadata": {
            "needs_background": "light"
          }
        }
      ]
    }
  ]
}