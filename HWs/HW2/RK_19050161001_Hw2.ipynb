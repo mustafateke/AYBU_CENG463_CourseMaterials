{
  "cells": [
    {
      "cell_type": "code",
      "execution_count": null,
      "metadata": {
        "id": "GWUt4AcE6a8t",
        "colab": {
          "base_uri": "https://localhost:8080/"
        },
        "outputId": "152f8f97-4903-4442-a92c-0b666d1361fb"
      },
      "outputs": [
        {
          "output_type": "stream",
          "name": "stdout",
          "text": [
            "<class 'pandas.core.frame.DataFrame'>\n",
            "RangeIndex: 5572 entries, 0 to 5571\n",
            "Data columns (total 5 columns):\n",
            " #   Column      Non-Null Count  Dtype \n",
            "---  ------      --------------  ----- \n",
            " 0   target      5572 non-null   object\n",
            " 1   rawText     5572 non-null   object\n",
            " 2   Unnamed: 2  50 non-null     object\n",
            " 3   Unnamed: 3  12 non-null     object\n",
            " 4   Unnamed: 4  6 non-null      object\n",
            "dtypes: object(5)\n",
            "memory usage: 217.8+ KB\n"
          ]
        }
      ],
      "source": [
        "import pandas as pd\n",
        "\n",
        "df = pd.read_csv('/content/sample_data/spamData.csv', encoding='latin-1')\n",
        "\n",
        "df.info()\n",
        "\n",
        "df.drop(df.columns[4], axis=1, inplace=True)\n",
        "df.drop(df.columns[3], axis=1, inplace=True)\n",
        "df.drop(df.columns[2], axis=1, inplace=True)\n",
        "\n"
      ]
    },
    {
      "cell_type": "code",
      "execution_count": null,
      "metadata": {
        "id": "RvsHLeZH6a8w",
        "colab": {
          "base_uri": "https://localhost:8080/"
        },
        "outputId": "c38cad36-c84f-452c-da68-18bf85e694fd"
      },
      "outputs": [
        {
          "output_type": "stream",
          "name": "stdout",
          "text": [
            "<class 'pandas.core.frame.DataFrame'>\n",
            "RangeIndex: 5572 entries, 0 to 5571\n",
            "Data columns (total 2 columns):\n",
            " #   Column   Non-Null Count  Dtype \n",
            "---  ------   --------------  ----- \n",
            " 0   target   5572 non-null   object\n",
            " 1   rawText  5572 non-null   object\n",
            "dtypes: object(2)\n",
            "memory usage: 87.2+ KB\n"
          ]
        }
      ],
      "source": [
        "df.info()"
      ]
    },
    {
      "cell_type": "code",
      "execution_count": null,
      "metadata": {
        "colab": {
          "base_uri": "https://localhost:8080/"
        },
        "id": "Dvn74f_z6a8x",
        "outputId": "af7931e9-06b2-4905-b0c2-3efb91468e2c"
      },
      "outputs": [
        {
          "output_type": "execute_result",
          "data": {
            "text/plain": [
              "(5572, 2)"
            ]
          },
          "metadata": {},
          "execution_count": 210
        }
      ],
      "source": [
        "df.shape"
      ]
    },
    {
      "cell_type": "code",
      "execution_count": null,
      "metadata": {
        "id": "C6_5kxW26a8x",
        "colab": {
          "base_uri": "https://localhost:8080/",
          "height": 206
        },
        "outputId": "27c7a3c3-b12c-4621-9ba2-c8348de55813"
      },
      "outputs": [
        {
          "output_type": "execute_result",
          "data": {
            "text/plain": [
              "  target                                            rawText\n",
              "0    ham  Go until jurong point, crazy.. Available only ...\n",
              "1    ham                      Ok lar... Joking wif u oni...\n",
              "2   spam  Free entry in 2 a wkly comp to win FA Cup fina...\n",
              "3    ham  U dun say so early hor... U c already then say...\n",
              "4    ham  Nah I don't think he goes to usf, he lives aro..."
            ],
            "text/html": [
              "\n",
              "  <div id=\"df-97b6761a-4bad-4ea8-bada-b5532fd7d6fc\">\n",
              "    <div class=\"colab-df-container\">\n",
              "      <div>\n",
              "<style scoped>\n",
              "    .dataframe tbody tr th:only-of-type {\n",
              "        vertical-align: middle;\n",
              "    }\n",
              "\n",
              "    .dataframe tbody tr th {\n",
              "        vertical-align: top;\n",
              "    }\n",
              "\n",
              "    .dataframe thead th {\n",
              "        text-align: right;\n",
              "    }\n",
              "</style>\n",
              "<table border=\"1\" class=\"dataframe\">\n",
              "  <thead>\n",
              "    <tr style=\"text-align: right;\">\n",
              "      <th></th>\n",
              "      <th>target</th>\n",
              "      <th>rawText</th>\n",
              "    </tr>\n",
              "  </thead>\n",
              "  <tbody>\n",
              "    <tr>\n",
              "      <th>0</th>\n",
              "      <td>ham</td>\n",
              "      <td>Go until jurong point, crazy.. Available only ...</td>\n",
              "    </tr>\n",
              "    <tr>\n",
              "      <th>1</th>\n",
              "      <td>ham</td>\n",
              "      <td>Ok lar... Joking wif u oni...</td>\n",
              "    </tr>\n",
              "    <tr>\n",
              "      <th>2</th>\n",
              "      <td>spam</td>\n",
              "      <td>Free entry in 2 a wkly comp to win FA Cup fina...</td>\n",
              "    </tr>\n",
              "    <tr>\n",
              "      <th>3</th>\n",
              "      <td>ham</td>\n",
              "      <td>U dun say so early hor... U c already then say...</td>\n",
              "    </tr>\n",
              "    <tr>\n",
              "      <th>4</th>\n",
              "      <td>ham</td>\n",
              "      <td>Nah I don't think he goes to usf, he lives aro...</td>\n",
              "    </tr>\n",
              "  </tbody>\n",
              "</table>\n",
              "</div>\n",
              "      <button class=\"colab-df-convert\" onclick=\"convertToInteractive('df-97b6761a-4bad-4ea8-bada-b5532fd7d6fc')\"\n",
              "              title=\"Convert this dataframe to an interactive table.\"\n",
              "              style=\"display:none;\">\n",
              "        \n",
              "  <svg xmlns=\"http://www.w3.org/2000/svg\" height=\"24px\"viewBox=\"0 0 24 24\"\n",
              "       width=\"24px\">\n",
              "    <path d=\"M0 0h24v24H0V0z\" fill=\"none\"/>\n",
              "    <path d=\"M18.56 5.44l.94 2.06.94-2.06 2.06-.94-2.06-.94-.94-2.06-.94 2.06-2.06.94zm-11 1L8.5 8.5l.94-2.06 2.06-.94-2.06-.94L8.5 2.5l-.94 2.06-2.06.94zm10 10l.94 2.06.94-2.06 2.06-.94-2.06-.94-.94-2.06-.94 2.06-2.06.94z\"/><path d=\"M17.41 7.96l-1.37-1.37c-.4-.4-.92-.59-1.43-.59-.52 0-1.04.2-1.43.59L10.3 9.45l-7.72 7.72c-.78.78-.78 2.05 0 2.83L4 21.41c.39.39.9.59 1.41.59.51 0 1.02-.2 1.41-.59l7.78-7.78 2.81-2.81c.8-.78.8-2.07 0-2.86zM5.41 20L4 18.59l7.72-7.72 1.47 1.35L5.41 20z\"/>\n",
              "  </svg>\n",
              "      </button>\n",
              "      \n",
              "  <style>\n",
              "    .colab-df-container {\n",
              "      display:flex;\n",
              "      flex-wrap:wrap;\n",
              "      gap: 12px;\n",
              "    }\n",
              "\n",
              "    .colab-df-convert {\n",
              "      background-color: #E8F0FE;\n",
              "      border: none;\n",
              "      border-radius: 50%;\n",
              "      cursor: pointer;\n",
              "      display: none;\n",
              "      fill: #1967D2;\n",
              "      height: 32px;\n",
              "      padding: 0 0 0 0;\n",
              "      width: 32px;\n",
              "    }\n",
              "\n",
              "    .colab-df-convert:hover {\n",
              "      background-color: #E2EBFA;\n",
              "      box-shadow: 0px 1px 2px rgba(60, 64, 67, 0.3), 0px 1px 3px 1px rgba(60, 64, 67, 0.15);\n",
              "      fill: #174EA6;\n",
              "    }\n",
              "\n",
              "    [theme=dark] .colab-df-convert {\n",
              "      background-color: #3B4455;\n",
              "      fill: #D2E3FC;\n",
              "    }\n",
              "\n",
              "    [theme=dark] .colab-df-convert:hover {\n",
              "      background-color: #434B5C;\n",
              "      box-shadow: 0px 1px 3px 1px rgba(0, 0, 0, 0.15);\n",
              "      filter: drop-shadow(0px 1px 2px rgba(0, 0, 0, 0.3));\n",
              "      fill: #FFFFFF;\n",
              "    }\n",
              "  </style>\n",
              "\n",
              "      <script>\n",
              "        const buttonEl =\n",
              "          document.querySelector('#df-97b6761a-4bad-4ea8-bada-b5532fd7d6fc button.colab-df-convert');\n",
              "        buttonEl.style.display =\n",
              "          google.colab.kernel.accessAllowed ? 'block' : 'none';\n",
              "\n",
              "        async function convertToInteractive(key) {\n",
              "          const element = document.querySelector('#df-97b6761a-4bad-4ea8-bada-b5532fd7d6fc');\n",
              "          const dataTable =\n",
              "            await google.colab.kernel.invokeFunction('convertToInteractive',\n",
              "                                                     [key], {});\n",
              "          if (!dataTable) return;\n",
              "\n",
              "          const docLinkHtml = 'Like what you see? Visit the ' +\n",
              "            '<a target=\"_blank\" href=https://colab.research.google.com/notebooks/data_table.ipynb>data table notebook</a>'\n",
              "            + ' to learn more about interactive tables.';\n",
              "          element.innerHTML = '';\n",
              "          dataTable['output_type'] = 'display_data';\n",
              "          await google.colab.output.renderOutput(dataTable, element);\n",
              "          const docLink = document.createElement('div');\n",
              "          docLink.innerHTML = docLinkHtml;\n",
              "          element.appendChild(docLink);\n",
              "        }\n",
              "      </script>\n",
              "    </div>\n",
              "  </div>\n",
              "  "
            ]
          },
          "metadata": {},
          "execution_count": 211
        }
      ],
      "source": [
        "df.head()"
      ]
    },
    {
      "cell_type": "code",
      "execution_count": null,
      "metadata": {
        "colab": {
          "base_uri": "https://localhost:8080/"
        },
        "id": "-Yh9Lp336a8y",
        "outputId": "37ec3222-5639-479f-c188-3b2d2bb7d7a6"
      },
      "outputs": [
        {
          "output_type": "execute_result",
          "data": {
            "text/plain": [
              "array(['ham', 'spam'], dtype=object)"
            ]
          },
          "metadata": {},
          "execution_count": 212
        }
      ],
      "source": [
        "import numpy as np\n",
        "\n",
        "np.unique(df.target)"
      ]
    },
    {
      "cell_type": "code",
      "execution_count": null,
      "metadata": {
        "id": "jnSRJkvr6a8y"
      },
      "outputs": [],
      "source": [
        "x = list(df['rawText'])\n",
        "y = list(df['target'])\n",
        "\n"
      ]
    },
    {
      "cell_type": "code",
      "execution_count": null,
      "metadata": {
        "id": "vaQvmPfR6a8z"
      },
      "outputs": [],
      "source": [
        "class tokenizer:\n",
        "    def __init__(self, text_data):\n",
        "        self.vocab = {}\n",
        "        self.__get_vocab(text_data)\n",
        "        \n",
        "    def convert_text_dataset_to_matrix(self, X):\n",
        "        vocab = self.vocab\n",
        "        result = []       \n",
        "        for text in tqdm(X):\n",
        "            vector = self.__text_to_vector(text)\n",
        "            result.append(vector)\n",
        "        return result\n",
        "    \n",
        "    def __get_vocab(self, text_data):\n",
        "        word_id = 0\n",
        "        for text in text_data:\n",
        "            words = text.split()\n",
        "            for word in words:\n",
        "                word = word.lower()\n",
        "                if word not in self.vocab:\n",
        "                    self.vocab[word] = word_id\n",
        "                    word_id += 1\n",
        "        print(f'Dictionary size : {len(self.vocab)}')\n",
        "    \n",
        "    def __text_to_vector(self, text):\n",
        "        vocab = self.vocab\n",
        "        result = list(np.zeros(len(vocab)))\n",
        "        words = text.split()\n",
        "        for word in words:\n",
        "            word = word.lower()\n",
        "            if word in vocab:\n",
        "                result[vocab[word]] += 1\n",
        "        return result"
      ]
    },
    {
      "cell_type": "code",
      "execution_count": null,
      "metadata": {
        "colab": {
          "base_uri": "https://localhost:8080/"
        },
        "id": "IXVtp1AD6a80",
        "outputId": "1e5c1211-a75d-41c5-cb4d-2a6277b15a72"
      },
      "outputs": [
        {
          "output_type": "stream",
          "name": "stdout",
          "text": [
            "Dictionary size : 13496\n"
          ]
        }
      ],
      "source": [
        "from tqdm import tqdm\n",
        "\n",
        "tz = tokenizer(x)"
      ]
    },
    {
      "cell_type": "code",
      "execution_count": null,
      "metadata": {
        "colab": {
          "base_uri": "https://localhost:8080/"
        },
        "id": "MKjBULa86a80",
        "outputId": "007eef5a-c8c0-43a7-de66-90edefb239ac"
      },
      "outputs": [
        {
          "output_type": "stream",
          "name": "stderr",
          "text": [
            "100%|██████████| 5572/5572 [00:06<00:00, 848.81it/s]\n"
          ]
        }
      ],
      "source": [
        "X = tz.convert_text_dataset_to_matrix(x)"
      ]
    },
    {
      "cell_type": "code",
      "execution_count": null,
      "metadata": {
        "colab": {
          "base_uri": "https://localhost:8080/"
        },
        "id": "aCNzoTCy6a81",
        "outputId": "0c03144d-dbc8-4a04-9549-130978b7979f"
      },
      "outputs": [
        {
          "output_type": "stream",
          "name": "stdout",
          "text": [
            "Number of data in X is  5572  (n)\n",
            "Dimension of feature vector (dictionary size) is  13496  (p)\n"
          ]
        }
      ],
      "source": [
        "n = len(X)\n",
        "p = len(X[0])\n",
        "\n",
        "print('Number of data in X is ', n, ' (n)')\n",
        "print('Dimension of feature vector (dictionary size) is ', p, ' (p)')"
      ]
    },
    {
      "cell_type": "markdown",
      "source": [
        "# KNN classifier"
      ],
      "metadata": {
        "id": "M0km-340Nlvx"
      }
    },
    {
      "cell_type": "code",
      "source": [
        "from sklearn.neighbors import KNeighborsClassifier\n",
        "from sklearn.model_selection import train_test_split\n",
        "from sklearn.metrics import confusion_matrix,accuracy_score,classification_report\n",
        "\n",
        "\n",
        "\n",
        "knn = KNeighborsClassifier(n_neighbors=1)\n",
        "\n",
        "X_train, X_test, y_train, y_test = train_test_split(X, y, test_size=0.30, random_state=123)\n",
        "\n",
        "\n",
        "\n",
        "knn.fit(X_train, y_train)\n",
        "\n",
        "y_train_pred = knn.predict(X_train)\n",
        "print(\"Training accuracy = \", sum(y_train_pred == y_train) / len(y_train_pred))\n",
        "\n",
        "y_test_pred = knn.predict(X_test)\n",
        "print(\"Test accuracy = \", sum(y_test_pred == y_test) / len(y_test_pred))\n",
        "\n",
        "conf_mtrx_knn=confusion_matrix(y_test, y_test_pred)\n",
        "print(conf_mtrx_knn)\n",
        "print()\n",
        "\n",
        "print('Classification Report')\n",
        "print(classification_report(y_test, y_test_pred))"
      ],
      "metadata": {
        "colab": {
          "base_uri": "https://localhost:8080/"
        },
        "id": "AzErjfiFJF8R",
        "outputId": "c2f0133a-5257-40de-83db-58795d807f88"
      },
      "execution_count": null,
      "outputs": [
        {
          "output_type": "stream",
          "name": "stdout",
          "text": [
            "Training accuracy =  1.0\n",
            "Test accuracy =  0.9533492822966507\n",
            "[[1455    2]\n",
            " [  76  139]]\n",
            "\n",
            "Classification Report\n",
            "              precision    recall  f1-score   support\n",
            "\n",
            "         ham       0.95      1.00      0.97      1457\n",
            "        spam       0.99      0.65      0.78       215\n",
            "\n",
            "    accuracy                           0.95      1672\n",
            "   macro avg       0.97      0.82      0.88      1672\n",
            "weighted avg       0.95      0.95      0.95      1672\n",
            "\n"
          ]
        }
      ]
    },
    {
      "cell_type": "code",
      "source": [
        "from matplotlib import pyplot as plt\n",
        "\n",
        "def plot_confusion_matrix(conf_mtrx, classes, cmap=plt.cm.Blues):\n",
        "    num_class = conf_mtrx.shape[0]\n",
        "    \n",
        "    fig, ax = plt.subplots()\n",
        "    im = ax.imshow(conf_mtrx, interpolation='nearest', cmap=cmap)\n",
        "    ax.figure.colorbar(im, ax=ax)\n",
        "    ax.set(xticks=np.arange(num_class), yticks=np.arange(num_class),\n",
        "           xticklabels=classes, yticklabels=classes, \n",
        "           ylabel='True label', xlabel='Predicted label')\n",
        "\n",
        "    middle_threshold = conf_mtrx.max() / 2.\n",
        "    for row in range(num_class):\n",
        "        for col in range(num_class):\n",
        "            ax.text(col, row, format(conf_mtrx[row, col], '.0f'), ha=\"center\", va=\"center\",\n",
        "                    color=\"white\" if conf_mtrx[row, col] > middle_threshold else \"black\")\n",
        "    fig.tight_layout()\n",
        "    plt.show()"
      ],
      "metadata": {
        "id": "20rKqhmfPJI_"
      },
      "execution_count": null,
      "outputs": []
    },
    {
      "cell_type": "code",
      "source": [
        "plot_confusion_matrix(conf_mtrx_knn, np.unique(df.target), cmap=plt.cm.Blues)"
      ],
      "metadata": {
        "colab": {
          "base_uri": "https://localhost:8080/",
          "height": 297
        },
        "id": "W1YcMjgvPtWY",
        "outputId": "78b3db35-e210-4646-c0cf-3a7d8b05e62c"
      },
      "execution_count": null,
      "outputs": [
        {
          "output_type": "display_data",
          "data": {
            "text/plain": [
              "<Figure size 432x288 with 2 Axes>"
            ],
            "image/png": "[encoded data removed]"
          },
          "metadata": {
            "needs_background": "light"
          }
        }
      ]
    },
    {
      "cell_type": "markdown",
      "metadata": {
        "id": "_ZGnAGnM6a86"
      },
      "source": [
        "# Naive Bayes classifier"
      ]
    },
    {
      "cell_type": "code",
      "execution_count": null,
      "metadata": {
        "colab": {
          "base_uri": "https://localhost:8080/"
        },
        "id": "rqMVRd9i6a86",
        "outputId": "1952f4b2-3014-4dd4-ae4f-d89f586e9859"
      },
      "outputs": [
        {
          "output_type": "stream",
          "name": "stdout",
          "text": [
            "Training set size is 3900 rows\n",
            "Test set size is 1672 rows\n",
            "Train + test set size is 5572 rows\n"
          ]
        }
      ],
      "source": [
        "from sklearn.model_selection import train_test_split\n",
        "from sklearn.naive_bayes import GaussianNB\n",
        "\n",
        "X_train, X_test, y_train, y_test = train_test_split(X, y, test_size=0.3, random_state=123) \n",
        "\n",
        "print(f'Training set size is {len(X_train)} rows')\n",
        "print(f'Test set size is {len(X_test)} rows')\n",
        "print(f'Train + test set size is {len(X_train) + len(X_test)} rows')\n",
        "\n",
        "\n",
        "nb = GaussianNB()\n",
        "nb.fit(X_train, y_train)\n",
        "y_pred = nb.predict(X_test)"
      ]
    },
    {
      "cell_type": "code",
      "execution_count": null,
      "metadata": {
        "colab": {
          "base_uri": "https://localhost:8080/"
        },
        "id": "W3YNGLuH6a89",
        "outputId": "88d44991-2bd4-4090-9a08-b022c246799c"
      },
      "outputs": [
        {
          "output_type": "execute_result",
          "data": {
            "text/plain": [
              "array(['ham', 'spam', 'ham', ..., 'ham', 'ham', 'ham'], dtype='<U4')"
            ]
          },
          "metadata": {},
          "execution_count": 222
        }
      ],
      "source": [
        "y_pred"
      ]
    },
    {
      "cell_type": "code",
      "execution_count": null,
      "metadata": {
        "colab": {
          "base_uri": "https://localhost:8080/"
        },
        "id": "hh0Ric5G6a8-",
        "outputId": "1ef4debf-8441-4d1f-8296-20489fb489ca"
      },
      "outputs": [
        {
          "output_type": "stream",
          "name": "stdout",
          "text": [
            "Train Accuracy:  0.9876923076923076\n",
            "\n",
            "Test Accuracy:  0.9324162679425837\n",
            "\n",
            "Confusion Matrix\n",
            "[[1367   90]\n",
            " [  23  192]]\n",
            "\n",
            "Classification Report\n",
            "              precision    recall  f1-score   support\n",
            "\n",
            "         ham       0.98      0.94      0.96      1457\n",
            "        spam       0.68      0.89      0.77       215\n",
            "\n",
            "    accuracy                           0.93      1672\n",
            "   macro avg       0.83      0.92      0.87      1672\n",
            "weighted avg       0.94      0.93      0.94      1672\n",
            "\n"
          ]
        }
      ],
      "source": [
        "\n",
        "\n",
        "print('Train Accuracy: ', accuracy_score(y_train, nb.predict(X_train)))\n",
        "print()\n",
        "print('Test Accuracy: ', accuracy_score(y_test, y_pred))\n",
        "print()\n",
        "\n",
        "conf_mtrx = confusion_matrix(y_test, y_pred)\n",
        "print('Confusion Matrix')\n",
        "print(conf_mtrx)\n",
        "print()\n",
        "\n",
        "print('Classification Report')\n",
        "print(classification_report(y_test, y_pred))"
      ]
    },
    {
      "cell_type": "markdown",
      "metadata": {
        "id": "KRSX0N6Y6a8_"
      },
      "source": [
        "Plot Confusion Matrix"
      ]
    },
    {
      "cell_type": "code",
      "execution_count": null,
      "metadata": {
        "colab": {
          "base_uri": "https://localhost:8080/",
          "height": 297
        },
        "id": "BBm-4A7w6a8_",
        "outputId": "f6bc29cb-e412-458f-fb20-931d974f68bf"
      },
      "outputs": [
        {
          "output_type": "display_data",
          "data": {
            "text/plain": [
              "<Figure size 432x288 with 2 Axes>"
            ],
            "image/png": "[encoded data removed]"
          },
          "metadata": {
            "needs_background": "light"
          }
        }
      ],
      "source": [
        "plot_confusion_matrix(conf_mtrx, np.unique(df.target), cmap=plt.cm.Blues)"
      ]
    },
    {
      "cell_type": "markdown",
      "source": [
        "# SVM Classifier"
      ],
      "metadata": {
        "id": "J4d0hgm4Qzav"
      }
    },
    {
      "cell_type": "code",
      "source": [
        "from sklearn import svm, datasets\n",
        "from sklearn.svm import SVC\n",
        "\n",
        "\n",
        "\n",
        "\n",
        "X_train, X_test, y_train, y_test = train_test_split(X, y, test_size=0.30, random_state=123)\n",
        "classifier = SVC(kernel='linear', probability=True, random_state=0)\n",
        "\n",
        "\n",
        "classifier.fit(X_train, y_train)\n",
        "\n",
        "y_train_pred = classifier.predict(X_train)\n",
        "print(\"Training accuracy = \", sum(y_train_pred == y_train) / len(y_train_pred))\n",
        "\n",
        "y_test_pred = classifier.predict(X_test)\n",
        "print(\"Test accuracy = \", sum(y_test_pred == y_test) / len(y_test_pred))\n",
        "\n",
        "conf_mtrx_svm=confusion_matrix(y_test, y_test_pred)\n",
        "print()\n",
        "\n",
        "print(conf_mtrx_svm)\n",
        "print()\n",
        "\n",
        "print('Classification Report')\n",
        "print(classification_report(y_test, y_test_pred))\n"
      ],
      "metadata": {
        "colab": {
          "base_uri": "https://localhost:8080/"
        },
        "id": "p6lZCOnLVbzP",
        "outputId": "08fbac14-b4f4-49ea-ecbd-d03011d48a4a"
      },
      "execution_count": null,
      "outputs": [
        {
          "output_type": "stream",
          "name": "stdout",
          "text": [
            "Training accuracy =  1.0\n",
            "Test accuracy =  0.9826555023923444\n",
            "\n",
            "[[1454    3]\n",
            " [  26  189]]\n",
            "\n",
            "Classification Report\n",
            "              precision    recall  f1-score   support\n",
            "\n",
            "         ham       0.98      1.00      0.99      1457\n",
            "        spam       0.98      0.88      0.93       215\n",
            "\n",
            "    accuracy                           0.98      1672\n",
            "   macro avg       0.98      0.94      0.96      1672\n",
            "weighted avg       0.98      0.98      0.98      1672\n",
            "\n"
          ]
        }
      ]
    },
    {
      "cell_type": "code",
      "source": [
        "plot_confusion_matrix(conf_mtrx_svm, np.unique(df.target), cmap=plt.cm.Blues)"
      ],
      "metadata": {
        "colab": {
          "base_uri": "https://localhost:8080/",
          "height": 297
        },
        "id": "EC0DCClOl5u2",
        "outputId": "88d3f1b9-3c90-4942-ce86-b44454a6dd08"
      },
      "execution_count": null,
      "outputs": [
        {
          "output_type": "display_data",
          "data": {
            "text/plain": [
              "<Figure size 432x288 with 2 Axes>"
            ],
            "image/png": "[encoded data removed]"
          },
          "metadata": {
            "needs_background": "light"
          }
        }
      ]
    },
    {
      "cell_type": "markdown",
      "source": [
        "**ROC**"
      ],
      "metadata": {
        "id": "c68Mspm6HAYN"
      }
    },
    {
      "cell_type": "code",
      "source": [
        "from sklearn.metrics import accuracy_score\n",
        "from sklearn import metrics\n",
        "from sklearn.metrics import roc_curve, auc, roc_auc_score\n",
        "\n",
        "\n",
        "r_probs =[0 for _ in range(len(y_test))]\n",
        "\n",
        "knn_probs=knn.predict_proba(X_test)\n",
        "nb_probs=nb.predict_proba(X_test)\n",
        "svm_probs=classifier.predict_proba(X_test)\n",
        "\n",
        "nb_probs=nb_probs[:,1]\n",
        "svm_probs=svm_probs[:,1]\n",
        "knn_probs=knn_probs[:,1]"
      ],
      "metadata": {
        "id": "Z_m2UM3az029"
      },
      "execution_count": null,
      "outputs": []
    },
    {
      "cell_type": "code",
      "source": [
        "r_auc=roc_auc_score(y_test,r_probs)\n",
        "\n",
        "nb_auc=roc_auc_score(y_test,nb_probs)\n",
        "svm_auc=roc_auc_score(y_test,svm_probs)\n",
        "knn_auc=roc_auc_score(y_test,knn_probs)"
      ],
      "metadata": {
        "id": "7ybQMQLAta3W"
      },
      "execution_count": null,
      "outputs": []
    },
    {
      "cell_type": "code",
      "source": [
        "from sklearn.preprocessing import label_binarize\n",
        "\n",
        "y_test = label_binarize(y_test,classes=['ham','spam'])\n",
        "\n",
        "r_fpr, r_tpr, _ = roc_curve(y_test, r_probs)\n",
        "\n",
        "knn_fpr, knn_tpr, _ = roc_curve(y_test, knn_probs)\n",
        "nb_fpr, nb_tpr, _ = roc_curve(y_test, nb_probs)\n",
        "svm_fpr, svm_tpr, _ = roc_curve(y_test, svm_probs)"
      ],
      "metadata": {
        "id": "c60gOsIA3df2"
      },
      "execution_count": null,
      "outputs": []
    },
    {
      "cell_type": "code",
      "source": [
        "plt.plot(r_fpr, r_tpr, linestyle='--', label='Random prediction (AUROC = %0.3f)' % r_auc)\n",
        "plt.plot(knn_fpr, knn_tpr, marker='.', label='KNN (AUROC = %0.3f)' % knn_auc)\n",
        "plt.plot(nb_fpr, nb_tpr, marker='.', label='Naive Bayes (AUROC = %0.3f)' % nb_auc)\n",
        "plt.plot(svm_fpr, svm_tpr, marker='.', label='SVM (AUROC = %0.3f)' % svm_auc)\n",
        "\n",
        "# Title\n",
        "plt.title('ROC Plot')\n",
        "# Axis labels\n",
        "plt.xlabel('False Positive Rate')\n",
        "plt.ylabel('True Positive Rate')\n",
        "# Show legend\n",
        "plt.legend() # \n",
        "# Show plot\n",
        "plt.show()"
      ],
      "metadata": {
        "colab": {
          "base_uri": "https://localhost:8080/",
          "height": 295
        },
        "id": "NCKXhDrs4rhH",
        "outputId": "058910a5-966a-4e24-c3c8-f37d40928bed"
      },
      "execution_count": null,
      "outputs": [
        {
          "output_type": "display_data",
          "data": {
            "text/plain": [
              "<Figure size 432x288 with 1 Axes>"
            ],
            "image/png": "[encoded data removed]"
          },
          "metadata": {
            "needs_background": "light"
          }
        }
      ]
    },
    {
      "cell_type": "markdown",
      "source": [
        "**CONCLUSION**\n",
        "\n",
        "**The number of misclassified samples (FP+FN)**\n",
        "\n",
        "**KNN         :  76+2=78**\n",
        "\n",
        "**Naive Bayes :  23+90=113**\n",
        "\n",
        "**SVM         :  26+3=29**\n",
        "\n",
        "![image.png](data:image/png;base64,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)\n"
      ],
      "metadata": {
        "id": "nbdQ__v0nVjV"
      }
    },
    {
      "cell_type": "markdown",
      "source": [
        "Note that since k = 1 for knn, the object belongs to the class of its nearest neighbor.\n",
        "\n",
        "What matters to us in the confusion matrixes is the high number of correctly classified data (TP+TN). \n",
        "\n",
        "KNN : 1455+139= 1594\n",
        "\n",
        "NB  : 1367+192= 1559\n",
        "\n",
        "SVM : 1454+189= 1643 \n",
        "\n",
        "\n",
        "**It is observed from the classification reports that accuracy alone does not mean anything. In this problem, precision and recall metrics are as important as accuracy.**\n",
        "\n",
        "Emails that are predicted 'ham' even though they are actually 'spam' can pose a great danger to my system. In other words, it is important for me that the number of these data classified as FP is small. Therefore, the higher the precision, the lower the number.\n",
        "\n",
        "**There may be some mails that are actually 'ham' but are predicted 'spam', which are very important to me and that I need to see. In other words, it is important for me that the number of these data classified as FN is small. Therefore, the higher the recall, the lower the number.**\n",
        "\n",
        "Therefore, I would not prefer knn classifications with low recall metrics and nb classifications with low precision metrics. Along with these metrics, I prefer the svm classification whose the accuracy metric is high.\n",
        "\n",
        "**The roc curve we have already drawn shows this. The area under the curve of the Svm classification is the largest. After that, the area under the curve of the NB classification is large. The smallest area belongs to the knn classification.**\n",
        "\n",
        "Also,the fact that the number of data classified as TP (y-axis) is high and the number of data classified as FP (x-axis) is low is what we want to see in the ROC curve.\n",
        "\n"
      ],
      "metadata": {
        "id": "plyIVUV3EpdC"
      }
    }
  ],
  "metadata": {
    "kernelspec": {
      "display_name": "Python 3",
      "language": "python",
      "name": "python3"
    },
    "language_info": {
      "codemirror_mode": {
        "name": "ipython",
        "version": 3
      },
      "file_extension": ".py",
      "mimetype": "text/x-python",
      "name": "python",
      "nbconvert_exporter": "python",
      "pygments_lexer": "ipython3",
      "version": "3.8.3"
    },
    "colab": {
      "provenance": [],
      "collapsed_sections": []
    }
  },
  "nbformat": 4,
  "nbformat_minor": 0
}